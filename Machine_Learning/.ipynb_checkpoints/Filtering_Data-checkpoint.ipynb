{
 "cells": [
  {
   "cell_type": "code",
   "execution_count": null,
   "metadata": {
    "id": "HmHKEm_TEHug"
   },
   "outputs": [],
   "source": [
    "import pandas as pd\n",
    "import matplotlib.pyplot as plt\n",
    "import os\n",
    "import numpy as np\n",
    "import shutil\n",
    "import tensorflow as tf\n",
    "import cv2"
   ]
  },
  {
   "cell_type": "code",
   "execution_count": null,
   "metadata": {},
   "outputs": [],
   "source": [
    "processedImage1 = \"./data_source/1/preprocessed_images\"\n",
    "baseImage1 = \"./data_source/1/image_data\"\n",
    "baseImage2 = \"./data_source/2/dataset\"\n",
    "train_dir = \"./datasets/train\"\n",
    "validation_dir = \"./datasets/validation\"\n",
    "cataractTrain_dir = os.path.join(train_dir + \"/\", 'cataract')\n",
    "cataractVal_dir = os.path.join(validation_dir + \"/\", 'cataract')\n",
    "normalTrain_dir = os.path.join(train_dir + \"/\", 'normal')\n",
    "normalVal_dir = os.path.join(validation_dir + \"/\", 'normal')\n",
    "baseCataract2 = os.path.join(baseImage2 + \"/\", '2_cataract')\n",
    "baseNormal2 = os.path.join(baseImage2 + \"/\", '1_normal')"
   ]
  },
  {
   "cell_type": "markdown",
   "metadata": {},
   "source": [
    "# Filtering dataset 1"
   ]
  },
  {
   "cell_type": "code",
   "execution_count": null,
   "metadata": {
    "colab": {
     "base_uri": "https://localhost:8080/",
     "height": 481
    },
    "id": "sReKOqlIM7PI",
    "outputId": "a0ae5a43-9624-45f4-95b2-481c335354be"
   },
   "outputs": [],
   "source": [
    "df = pd.read_csv(\"./data_source/1/full_df.csv\")\n",
    "df.head()"
   ]
  },
  {
   "cell_type": "code",
   "execution_count": null,
   "metadata": {
    "id": "BNbE54bmNC7n"
   },
   "outputs": [],
   "source": [
    "def has_cataract(text):\n",
    "    if \"cataract\" in text:\n",
    "        return 1\n",
    "    else:\n",
    "        return 0"
   ]
  },
  {
   "cell_type": "code",
   "execution_count": null,
   "metadata": {
    "id": "H1qickx5NHOg"
   },
   "outputs": [],
   "source": [
    "df[\"left_cataract\"] = df[\"Left-Diagnostic Keywords\"].apply(lambda x: has_cataract(x))\n",
    "df[\"right_cataract\"] = df[\"Right-Diagnostic Keywords\"].apply(lambda x: has_cataract(x))"
   ]
  },
  {
   "cell_type": "code",
   "execution_count": null,
   "metadata": {
    "colab": {
     "base_uri": "https://localhost:8080/",
     "height": 518
    },
    "id": "xiUa3demNiEJ",
    "outputId": "0ed9d56d-9404-4508-9d7a-1efc2342cd3e"
   },
   "outputs": [],
   "source": [
    "df[\"right_cataract\"][1:5]\n",
    "df.head()"
   ]
  },
  {
   "cell_type": "code",
   "execution_count": null,
   "metadata": {
    "id": "OX9YNYgWN-mS"
   },
   "outputs": [],
   "source": [
    "left_cataract = df.loc[(df.C ==1) & (df.left_cataract == 1)][\"Left-Fundus\"].values"
   ]
  },
  {
   "cell_type": "code",
   "execution_count": null,
   "metadata": {
    "colab": {
     "base_uri": "https://localhost:8080/"
    },
    "id": "Bha_BD0pOPjF",
    "outputId": "66ad1b53-8afb-4afd-ea51-fcb247ad8792"
   },
   "outputs": [],
   "source": [
    "right_cataract = df.loc[(df.C ==1) & (df.right_cataract == 1)][\"Right-Fundus\"].values\n",
    "right_cataract[:15]"
   ]
  },
  {
   "cell_type": "code",
   "execution_count": null,
   "metadata": {
    "colab": {
     "base_uri": "https://localhost:8080/"
    },
    "id": "pbugVQgmOR0_",
    "outputId": "4d8d2097-9558-42ae-a4ae-0e493decbdae"
   },
   "outputs": [],
   "source": [
    "print(\"Number of images in left cataract: {}\".format(len(left_cataract)))\n",
    "print(\"Number of images in right cataract: {}\".format(len(right_cataract)))"
   ]
  },
  {
   "cell_type": "code",
   "execution_count": null,
   "metadata": {
    "colab": {
     "base_uri": "https://localhost:8080/"
    },
    "id": "_fr0XvfhOXPL",
    "outputId": "eeb27d97-11ea-4687-93f4-2d1b6c2b336c"
   },
   "outputs": [],
   "source": [
    "left_normal = df.loc[(df.C ==0) & (df[\"Left-Diagnostic Keywords\"] == \"normal fundus\")][\"Left-Fundus\"].sample(250,random_state=42).values\n",
    "right_normal = df.loc[(df.C ==0) & (df[\"Right-Diagnostic Keywords\"] == \"normal fundus\")][\"Right-Fundus\"].sample(250,random_state=42).values\n",
    "right_normal[:15]\n"
   ]
  },
  {
   "cell_type": "code",
   "execution_count": null,
   "metadata": {
    "id": "5JTZB_DKOagy"
   },
   "outputs": [],
   "source": [
    "cataract = np.concatenate((left_cataract,right_cataract),axis=0)\n",
    "normal = np.concatenate((left_normal,right_normal),axis=0)"
   ]
  },
  {
   "cell_type": "code",
   "execution_count": null,
   "metadata": {},
   "outputs": [],
   "source": [
    "# print(cataract)\n",
    "# print(normal)\n",
    "print(left_cataract)\n",
    "print(right_cataract)"
   ]
  },
  {
   "cell_type": "code",
   "execution_count": null,
   "metadata": {},
   "outputs": [],
   "source": [
    "train_cataract = cataract[:494]\n",
    "val_cataract = cataract[494:]\n",
    "train_normal = normal[:400]\n",
    "val_normal = normal[400:]\n",
    "# print(train_cataract)\n",
    "# print(val_cataract)\n",
    "# print(train_normal)\n",
    "# print(val_normal)"
   ]
  },
  {
   "cell_type": "code",
   "execution_count": null,
   "metadata": {
    "colab": {
     "base_uri": "https://localhost:8080/"
    },
    "id": "npAnPfNcOmQG",
    "outputId": "8ae0cd3d-b27a-47bc-dcf9-9e56574d2a61"
   },
   "outputs": [],
   "source": [
    "print(len(cataract),len(normal))\n",
    "print(len(train_cataract),len(val_cataract))\n",
    "print(len(train_normal),len(val_normal))"
   ]
  },
  {
   "cell_type": "code",
   "execution_count": null,
   "metadata": {},
   "outputs": [],
   "source": [
    "def move_image(itemList, destinationDirectory, sourceDirectory):\n",
    "    for image in os.listdir(sourceDirectory):\n",
    "        if image in itemList:\n",
    "            name = os.path.join(sourceDirectory + \"/\", image)\n",
    "            if os.path.isfile(name):\n",
    "                shutil.copy(name, destinationDirectory)\n",
    "            else:\n",
    "                print (\"file does not exist\", name)"
   ]
  },
  {
   "cell_type": "code",
   "execution_count": null,
   "metadata": {},
   "outputs": [],
   "source": [
    "move_image(train_cataract, cataractTrain_dir, processedImage1)\n",
    "move_image(val_cataract, cataractVal_dir, processedImage1)\n",
    "move_image(train_normal, normalTrain_dir, processedImage1)\n",
    "move_image(val_normal, normalVal_dir, processedImage1)"
   ]
  },
  {
   "cell_type": "code",
   "execution_count": null,
   "metadata": {},
   "outputs": [],
   "source": [
    "tc = 0\n",
    "vc = 0\n",
    "tn = 0\n",
    "vn = 0\n",
    "\n",
    "for item in os.listdir(cataractTrain_dir):\n",
    "    tc += 1\n",
    "for item in os.listdir(cataractVal_dir):\n",
    "    vc += 1\n",
    "for item in os.listdir(normalTrain_dir):\n",
    "    tn += 1\n",
    "for item in os.listdir(normalVal_dir):\n",
    "    vn += 1\n",
    "    \n",
    "# 400 from 594\n",
    "print(tc) # 301 from 494 (miss 193)\n",
    "print(vc) # 99 from 100 (miss 1)\n",
    "# 484 dari 500\n",
    "print(tn) # 387 from 400 (miss 13)\n",
    "print(vn) # 97 from 100 (miss 3)"
   ]
  },
  {
   "cell_type": "code",
   "execution_count": null,
   "metadata": {},
   "outputs": [],
   "source": [
    "processed_trainCataract = os.listdir(cataractTrain_dir)\n",
    "processed_valCataract = os.listdir(cataractVal_dir)\n",
    "processed_trainNormal = os.listdir(normalTrain_dir)\n",
    "processed_valNormal = os.listdir(normalVal_dir)\n",
    "\n",
    "missing_trainCataract = []\n",
    "missing_valCataract = []\n",
    "missing_trainNormal = []\n",
    "missing_valNormal = []"
   ]
  },
  {
   "cell_type": "code",
   "execution_count": null,
   "metadata": {},
   "outputs": [],
   "source": [
    "def missing_image(itemList, missingList, processedList):\n",
    "    for item in itemList:\n",
    "        if item not in processedList:\n",
    "            missingList.append(item)"
   ]
  },
  {
   "cell_type": "code",
   "execution_count": null,
   "metadata": {},
   "outputs": [],
   "source": [
    "missing_image(train_cataract, missing_trainCataract, processed_trainCataract)\n",
    "missing_image(val_cataract, missing_valCataract, processed_valCataract)\n",
    "missing_image(train_normal, missing_trainNormal, processed_trainNormal)\n",
    "missing_image(val_normal, missing_valNormal, processed_valNormal)"
   ]
  },
  {
   "cell_type": "code",
   "execution_count": null,
   "metadata": {},
   "outputs": [],
   "source": [
    "print(missing_trainCataract)\n",
    "print(missing_valCataract)\n",
    "print(missing_trainNormal)\n",
    "print(missing_valNormal)\n",
    "# there are some missing image in train and validation for cataract"
   ]
  },
  {
   "cell_type": "code",
   "execution_count": null,
   "metadata": {},
   "outputs": [],
   "source": [
    "seen = {}\n",
    "duplicate = []\n",
    "for item in train_cataract:\n",
    "    if item not in seen:\n",
    "        seen[item] = 1\n",
    "    else:\n",
    "        if seen[item] == 1:\n",
    "            duplicate.append(item)\n",
    "        seen[item] += 1\n",
    "\n",
    "print(train_cataract)\n",
    "print(seen)\n",
    "print(len(duplicate))\n",
    "        \n",
    "# after examining the list, there are duplicate within the list. that is why the image that we get is less than what expected\n",
    "# the duplicate itself come from the csv file that was included in the dataset\n",
    "# after id 4784 the csv in the dataset repeat its content duplicating its value\n",
    "# and there are actual missing data in the preprocessed_image folder"
   ]
  },
  {
   "cell_type": "code",
   "execution_count": null,
   "metadata": {},
   "outputs": [],
   "source": [
    "def crop_image(itemList, destinationDirectory, sourceDirectory):\n",
    "    for image in os.listdir(sourceDirectory):\n",
    "        if image in itemList:\n",
    "            image_path = os.path.join(sourceDirectory + \"/\", image)\n",
    "            image_temp = cv2.imread(image_path)\n",
    "            cropped_image = image_temp[0:,600:2900]\n",
    "            cropped_path = os.path.join(destinationDirectory + \"/\", image)\n",
    "            cv2.imwrite(cropped_path, cropped_image)"
   ]
  },
  {
   "cell_type": "code",
   "execution_count": null,
   "metadata": {},
   "outputs": [],
   "source": [
    "# Tried to cropped all of them at once \n",
    "# after checking result\n",
    "# only works for '2244_left.jpg', '2251_left.jpg' on cataract train\n",
    "# the picture have various pixel value\n",
    "crop_image(missing_trainCataract, cataractTrain_dir, baseImage1)\n",
    "crop_image(missing_valCataract, cataractVal_dir, baseImage1)"
   ]
  },
  {
   "cell_type": "code",
   "execution_count": null,
   "metadata": {},
   "outputs": [],
   "source": [
    "# manually cropped ['2102_left.jpg', '2231_left.jpg', '1456_right.jpg']\n",
    "# ['2229_right.jpg']"
   ]
  },
  {
   "cell_type": "code",
   "execution_count": null,
   "metadata": {},
   "outputs": [],
   "source": [
    "def cropped_path(destination_path ,image):\n",
    "    return os.path.join(destination_path + \"/\", image)"
   ]
  },
  {
   "cell_type": "code",
   "execution_count": null,
   "metadata": {},
   "outputs": [],
   "source": [
    "# 2102_left.jpg"
   ]
  },
  {
   "cell_type": "code",
   "execution_count": null,
   "metadata": {},
   "outputs": [],
   "source": [
    "image = cv2.imread(baseImage1 + \"/2102_left.jpg\")"
   ]
  },
  {
   "cell_type": "code",
   "execution_count": null,
   "metadata": {},
   "outputs": [],
   "source": [
    "plt.title(\"2102_left original image\")\n",
    "plt.imshow(image)"
   ]
  },
  {
   "cell_type": "code",
   "execution_count": null,
   "metadata": {},
   "outputs": [],
   "source": [
    "cropped_image = image[0:,250:1800]"
   ]
  },
  {
   "cell_type": "code",
   "execution_count": null,
   "metadata": {},
   "outputs": [],
   "source": [
    "cropped_image.shape"
   ]
  },
  {
   "cell_type": "code",
   "execution_count": null,
   "metadata": {},
   "outputs": [],
   "source": [
    "plt.title(\"2102_left cropped image\")\n",
    "plt.imshow(cropped_image)"
   ]
  },
  {
   "cell_type": "code",
   "execution_count": null,
   "metadata": {},
   "outputs": [],
   "source": [
    "cv2.imwrite(cropped_path(cataractTrain_dir, \"2102_left.jpg\"), cropped_image)"
   ]
  },
  {
   "cell_type": "code",
   "execution_count": null,
   "metadata": {},
   "outputs": [],
   "source": [
    "# 2231_left.jpg"
   ]
  },
  {
   "cell_type": "code",
   "execution_count": null,
   "metadata": {},
   "outputs": [],
   "source": [
    "image = cv2.imread(baseImage1 + \"/2231_left.jpg\")"
   ]
  },
  {
   "cell_type": "code",
   "execution_count": null,
   "metadata": {},
   "outputs": [],
   "source": [
    "plt.title(\"2231_left original image\")\n",
    "plt.imshow(image)"
   ]
  },
  {
   "cell_type": "code",
   "execution_count": null,
   "metadata": {},
   "outputs": [],
   "source": [
    "cropped_image = image[0:,400:3800]"
   ]
  },
  {
   "cell_type": "code",
   "execution_count": null,
   "metadata": {},
   "outputs": [],
   "source": [
    "plt.title(\"2231_left cropped image\")\n",
    "plt.imshow(cropped_image)"
   ]
  },
  {
   "cell_type": "code",
   "execution_count": null,
   "metadata": {},
   "outputs": [],
   "source": [
    "cv2.imwrite(cropped_path(cataractTrain_dir, \"2231_left.jpg\"), cropped_image)"
   ]
  },
  {
   "cell_type": "code",
   "execution_count": null,
   "metadata": {},
   "outputs": [],
   "source": [
    "# 1456_right.jpg"
   ]
  },
  {
   "cell_type": "code",
   "execution_count": null,
   "metadata": {},
   "outputs": [],
   "source": [
    "image = cv2.imread(baseImage1 + \"/1456_right.jpg\")"
   ]
  },
  {
   "cell_type": "code",
   "execution_count": null,
   "metadata": {},
   "outputs": [],
   "source": [
    "plt.title(\"1456_right original image\")\n",
    "plt.imshow(image)"
   ]
  },
  {
   "cell_type": "code",
   "execution_count": null,
   "metadata": {},
   "outputs": [],
   "source": [
    "# no cropping needed after inspection"
   ]
  },
  {
   "cell_type": "code",
   "execution_count": null,
   "metadata": {},
   "outputs": [],
   "source": [
    "cv2.imwrite(cropped_path(cataractTrain_dir, \"1456_right.jpg\"), image)"
   ]
  },
  {
   "cell_type": "code",
   "execution_count": null,
   "metadata": {},
   "outputs": [],
   "source": [
    "# 2229_right.jpg"
   ]
  },
  {
   "cell_type": "code",
   "execution_count": null,
   "metadata": {},
   "outputs": [],
   "source": [
    "image = cv2.imread(baseImage1 + \"/2229_right.jpg\")"
   ]
  },
  {
   "cell_type": "code",
   "execution_count": null,
   "metadata": {},
   "outputs": [],
   "source": [
    "plt.title(\"2229_right original image\")\n",
    "plt.imshow(image)"
   ]
  },
  {
   "cell_type": "code",
   "execution_count": null,
   "metadata": {},
   "outputs": [],
   "source": [
    "cropped_image = image[0:,400:3800]"
   ]
  },
  {
   "cell_type": "code",
   "execution_count": null,
   "metadata": {},
   "outputs": [],
   "source": [
    "plt.title(\"2229_right cropped image\")\n",
    "plt.imshow(cropped_image)"
   ]
  },
  {
   "cell_type": "code",
   "execution_count": null,
   "metadata": {},
   "outputs": [],
   "source": [
    "cv2.imwrite(cropped_path(cataractVal_dir, \"2229_right.jpg\"), cropped_image)"
   ]
  },
  {
   "cell_type": "code",
   "execution_count": null,
   "metadata": {},
   "outputs": [],
   "source": [
    "tc = 0\n",
    "vc = 0\n",
    "tn = 0\n",
    "vn = 0\n",
    "\n",
    "for item in os.listdir(cataractTrain_dir):\n",
    "    tc += 1\n",
    "for item in os.listdir(cataractVal_dir):\n",
    "    vc += 1\n",
    "for item in os.listdir(normalTrain_dir):\n",
    "    tn += 1\n",
    "for item in os.listdir(normalVal_dir):\n",
    "    vn += 1\n",
    "    \n",
    "# 400 from 594\n",
    "print(tc) # 306 from 494 (5 missing image solved)\n",
    "print(vc) # 100 from 100 (1 missing image solved)\n",
    "# 484 from 500\n",
    "print(tn) # 387 from 400 (no missing image)\n",
    "print(vn) # 97 from 100  (no missing image)"
   ]
  },
  {
   "cell_type": "markdown",
   "metadata": {},
   "source": [
    "# Filtering dataset 2"
   ]
  },
  {
   "cell_type": "code",
   "execution_count": null,
   "metadata": {},
   "outputs": [],
   "source": [
    "# adding image from the second dataset to balance the dataset that will be used\n",
    "cataract2 = os.listdir(baseCataract2)\n",
    "normal2 = os.listdir(baseNormal2)\n",
    "train_cataract2 = cataract2[:94] \n",
    "# val_cataract2 = \n",
    "train_normal2 = normal2[:13]\n",
    "val_normal2 = normal2[13:16]"
   ]
  },
  {
   "cell_type": "code",
   "execution_count": null,
   "metadata": {},
   "outputs": [],
   "source": [
    "print(len(cataract2))\n",
    "print(len(normal2))\n",
    "print(len(train_cataract2))\n",
    "print(len(train_normal2))\n",
    "print(len(val_normal2))"
   ]
  },
  {
   "cell_type": "code",
   "execution_count": null,
   "metadata": {},
   "outputs": [],
   "source": [
    "def crop_image2(itemList, destinationDirectory, sourceDirectory):\n",
    "    for image in os.listdir(sourceDirectory):\n",
    "        if image in itemList:\n",
    "            image_path = os.path.join(sourceDirectory + \"/\", image)\n",
    "            image_temp = cv2.imread(image_path)\n",
    "            cropped_image = image_temp[0:,430:2150]\n",
    "            cropped_path = os.path.join(destinationDirectory + \"/\", image)\n",
    "            cv2.imwrite(cropped_path, cropped_image)"
   ]
  },
  {
   "cell_type": "code",
   "execution_count": null,
   "metadata": {},
   "outputs": [],
   "source": [
    "crop_image2(train_cataract2, cataractTrain_dir, baseCataract2)\n",
    "crop_image2(train_normal2, normalTrain_dir, baseNormal2)\n",
    "crop_image2(val_normal2, normalVal_dir, baseNormal2)"
   ]
  },
  {
   "cell_type": "code",
   "execution_count": null,
   "metadata": {},
   "outputs": [],
   "source": [
    "tc = 0\n",
    "vc = 0\n",
    "tn = 0\n",
    "vn = 0\n",
    "\n",
    "for item in os.listdir(cataractTrain_dir):\n",
    "    tc += 1\n",
    "for item in os.listdir(cataractVal_dir):\n",
    "    vc += 1\n",
    "for item in os.listdir(normalTrain_dir):\n",
    "    tn += 1\n",
    "for item in os.listdir(normalVal_dir):\n",
    "    vn += 1\n",
    "    \n",
    "\n",
    "print(tc)\n",
    "print(vc)\n",
    "\n",
    "print(tn)\n",
    "print(vn)"
   ]
  },
  {
   "cell_type": "code",
   "execution_count": null,
   "metadata": {},
   "outputs": [],
   "source": [
    "# after checking result in cataract train directory\n",
    "# some picture was not centered in the cropping\n",
    "# [cataract_005, cataract_020, cataract_027, cataract_052, cataract_063]\n",
    "# manually crop one by one"
   ]
  },
  {
   "cell_type": "code",
   "execution_count": null,
   "metadata": {},
   "outputs": [],
   "source": [
    "# cataract_005"
   ]
  },
  {
   "cell_type": "code",
   "execution_count": null,
   "metadata": {},
   "outputs": [],
   "source": [
    "image = cv2.imread(baseCataract2 + \"/cataract_005.png\")"
   ]
  },
  {
   "cell_type": "code",
   "execution_count": null,
   "metadata": {},
   "outputs": [],
   "source": [
    "plt.title(\"cataract_005 original image\")\n",
    "plt.imshow(image)"
   ]
  },
  {
   "cell_type": "code",
   "execution_count": null,
   "metadata": {},
   "outputs": [],
   "source": [
    "cropped_image = image[0:,250:1600]"
   ]
  },
  {
   "cell_type": "code",
   "execution_count": null,
   "metadata": {},
   "outputs": [],
   "source": [
    "plt.title(\"cataract_005 cropped image\")\n",
    "plt.imshow(cropped_image)"
   ]
  },
  {
   "cell_type": "code",
   "execution_count": null,
   "metadata": {},
   "outputs": [],
   "source": [
    "cv2.imwrite(cropped_path(cataractTrain_dir, \"cataract_005.png\"), cropped_image)"
   ]
  },
  {
   "cell_type": "code",
   "execution_count": null,
   "metadata": {},
   "outputs": [],
   "source": [
    "# cataract_020"
   ]
  },
  {
   "cell_type": "code",
   "execution_count": null,
   "metadata": {},
   "outputs": [],
   "source": [
    "image = cv2.imread(baseCataract2 + \"/cataract_020.png\")"
   ]
  },
  {
   "cell_type": "code",
   "execution_count": null,
   "metadata": {},
   "outputs": [],
   "source": [
    "plt.title(\"cataract_020 original image\")\n",
    "plt.imshow(image)"
   ]
  },
  {
   "cell_type": "code",
   "execution_count": null,
   "metadata": {},
   "outputs": [],
   "source": [
    "cropped_image = image[0:,250:1600]"
   ]
  },
  {
   "cell_type": "code",
   "execution_count": null,
   "metadata": {},
   "outputs": [],
   "source": [
    "plt.title(\"cataract_020 cropped image\")\n",
    "plt.imshow(cropped_image)"
   ]
  },
  {
   "cell_type": "code",
   "execution_count": null,
   "metadata": {},
   "outputs": [],
   "source": [
    "cv2.imwrite(cropped_path(cataractTrain_dir, \"cataract_020.png\"), cropped_image)"
   ]
  },
  {
   "cell_type": "code",
   "execution_count": null,
   "metadata": {},
   "outputs": [],
   "source": [
    "# cataract_027"
   ]
  },
  {
   "cell_type": "code",
   "execution_count": null,
   "metadata": {},
   "outputs": [],
   "source": [
    "image = cv2.imread(baseCataract2 + \"/cataract_027.png\")"
   ]
  },
  {
   "cell_type": "code",
   "execution_count": null,
   "metadata": {},
   "outputs": [],
   "source": [
    "plt.title(\"cataract_027 original image\")\n",
    "plt.imshow(image)"
   ]
  },
  {
   "cell_type": "code",
   "execution_count": null,
   "metadata": {},
   "outputs": [],
   "source": [
    "cropped_image = image[0:,250:1600]"
   ]
  },
  {
   "cell_type": "code",
   "execution_count": null,
   "metadata": {},
   "outputs": [],
   "source": [
    "plt.title(\"cataract_027 cropped image\")\n",
    "plt.imshow(cropped_image)"
   ]
  },
  {
   "cell_type": "code",
   "execution_count": null,
   "metadata": {},
   "outputs": [],
   "source": [
    "cv2.imwrite(cropped_path(cataractTrain_dir, \"cataract_027.png\"), cropped_image)"
   ]
  },
  {
   "cell_type": "code",
   "execution_count": null,
   "metadata": {},
   "outputs": [],
   "source": [
    "# cataract_052"
   ]
  },
  {
   "cell_type": "code",
   "execution_count": null,
   "metadata": {},
   "outputs": [],
   "source": [
    "image = cv2.imread(baseCataract2 + \"/cataract_052.png\")"
   ]
  },
  {
   "cell_type": "code",
   "execution_count": null,
   "metadata": {},
   "outputs": [],
   "source": [
    "plt.title(\"cataract_052 original image\")\n",
    "plt.imshow(image)"
   ]
  },
  {
   "cell_type": "code",
   "execution_count": null,
   "metadata": {},
   "outputs": [],
   "source": [
    "cropped_image = image[0:,250:1600]"
   ]
  },
  {
   "cell_type": "code",
   "execution_count": null,
   "metadata": {},
   "outputs": [],
   "source": [
    "plt.title(\"cataract_052 cropped image\")\n",
    "plt.imshow(cropped_image)"
   ]
  },
  {
   "cell_type": "code",
   "execution_count": null,
   "metadata": {},
   "outputs": [],
   "source": [
    "cv2.imwrite(cropped_path(cataractTrain_dir, \"cataract_052.png\"), cropped_image)"
   ]
  },
  {
   "cell_type": "code",
   "execution_count": null,
   "metadata": {},
   "outputs": [],
   "source": [
    "# cataract_063"
   ]
  },
  {
   "cell_type": "code",
   "execution_count": null,
   "metadata": {},
   "outputs": [],
   "source": [
    "image = cv2.imread(baseCataract2 + \"/cataract_063.png\")"
   ]
  },
  {
   "cell_type": "code",
   "execution_count": null,
   "metadata": {},
   "outputs": [],
   "source": [
    "plt.title(\"cataract_063 original image\")\n",
    "plt.imshow(image)"
   ]
  },
  {
   "cell_type": "code",
   "execution_count": null,
   "metadata": {},
   "outputs": [],
   "source": [
    "cropped_image = image[0:,250:1600]"
   ]
  },
  {
   "cell_type": "code",
   "execution_count": null,
   "metadata": {},
   "outputs": [],
   "source": [
    "plt.title(\"cataract_063 cropped image\")\n",
    "plt.imshow(cropped_image)"
   ]
  },
  {
   "cell_type": "code",
   "execution_count": null,
   "metadata": {},
   "outputs": [],
   "source": [
    "cv2.imwrite(cropped_path(cataractTrain_dir, \"cataract_063.png\"), cropped_image)"
   ]
  },
  {
   "cell_type": "code",
   "execution_count": null,
   "metadata": {},
   "outputs": [],
   "source": []
  }
 ],
 "metadata": {
  "colab": {
   "name": "DataPreprocess.ipynb",
   "provenance": []
  },
  "kernelspec": {
   "display_name": "Python 3",
   "language": "python",
   "name": "python3"
  },
  "language_info": {
   "codemirror_mode": {
    "name": "ipython",
    "version": 3
   },
   "file_extension": ".py",
   "mimetype": "text/x-python",
   "name": "python",
   "nbconvert_exporter": "python",
   "pygments_lexer": "ipython3",
   "version": "3.8.5"
  }
 },
 "nbformat": 4,
 "nbformat_minor": 1
}
